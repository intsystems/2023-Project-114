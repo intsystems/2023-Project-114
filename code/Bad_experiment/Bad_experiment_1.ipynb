{
 "cells": [
  {
   "cell_type": "code",
   "execution_count": 4,
   "id": "4b0e882f",
   "metadata": {
    "ExecuteTime": {
     "end_time": "2023-03-21T01:34:32.021345Z",
     "start_time": "2023-03-21T01:34:27.620557Z"
    }
   },
   "outputs": [],
   "source": [
    "import numpy as np\n",
    "\n",
    "from pathlib import Path\n",
    "\n",
    "import matplotlib\n",
    "import matplotlib.pyplot as plt\n",
    "\n",
    "import pickle\n",
    "\n",
    "from tqdm import tqdm\n",
    "\n",
    "import torch\n",
    "from torch import nn\n",
    "import torch.nn.functional as F\n",
    "from torch.utils.data import Dataset, DataLoader\n",
    "from torch.autograd.functional import jacobian\n",
    "from torch.autograd.functional import hessian\n",
    "import torch.optim as optim"
   ]
  },
  {
   "cell_type": "code",
   "execution_count": 5,
   "id": "a42db1c4",
   "metadata": {
    "ExecuteTime": {
     "end_time": "2023-03-21T01:34:34.391568Z",
     "start_time": "2023-03-21T01:34:34.375839Z"
    }
   },
   "outputs": [],
   "source": [
    "def f_analytical(states, t=0, m_1=1, m_2=1, l_1=1, l_2=1, g=9.8):\n",
    "    \"\"\"\n",
    "    The analytical dynamics of the system\n",
    "    \"\"\"\n",
    "    theta_1, theta_2, omega_1, omega_2 = states.T\n",
    "    \n",
    "    a_1 = (l_2 / l_1) * (m_2 / (m_1 + m_2)) * np.cos(theta_1 - theta_2)\n",
    "    a_2 = (l_1 / l_2) * np.cos(theta_1 - theta_2)\n",
    "    \n",
    "    \n",
    "    f_1 = -(l_2 / l_1) * (m_2 / (m_1 + m_2)) * (omega_2**2) * np.sin(theta_1 - theta_2) - (g / l_1) * np.sin(theta_1)\n",
    "    f_2 = (l_1 / l_2) * (omega_1**2) * np.sin(theta_1 - theta_2) - (g / l_2) * np.sin(theta_2)\n",
    "    g_1 = (f_1 - a_1 * f_2) / (1 - a_1 * a_2)\n",
    "    g_2 = (f_2 - a_2 * f_1) / (1 - a_1 * a_2)\n",
    "    \n",
    "    return np.array([omega_1, omega_2, g_1, g_2]).T\n",
    "\n",
    "\n",
    "def rk4_step(f, x, t, tau):\n",
    "    \"\"\"\n",
    "    One step of runge-kutta integration f(x, t)\n",
    "    \"\"\"\n",
    "    k_1 = tau * f(x, tau)\n",
    "    k_2 = tau * f(x + k_1/2, t + tau/2)\n",
    "    k_3 = tau * f(x + k_2/2, t + tau/2)\n",
    "    k_4 = tau * f(x + k_3, t + tau)\n",
    "    \n",
    "    return x + 1/6 * (k_1 + 2 * k_2 + 2 * k_3 + k_4)\n",
    "\n",
    "\n",
    "def rk4_step_rectified(f, x, t, tau):\n",
    "    \"\"\"\n",
    "    One step of runge-kutta integration f(x)\n",
    "    \"\"\"    \n",
    "    k_1 = tau * f(x)\n",
    "    k_2 = tau * f(x + k_1/2)\n",
    "    k_3 = tau * f(x + k_2/2)\n",
    "    k_4 = tau * f(x + k_3)\n",
    "    \n",
    "    return x + 1/6 * (k_1 + 2 * k_2 + 2 * k_3 + k_4)\n",
    "\n",
    "def solve_numerical(f, initial_state, t_arr, tau, solver=rk4_step):\n",
    "    \"\"\"\n",
    "    Steps of solver\n",
    "    \"\"\" \n",
    "    states = []\n",
    "    now_state = initial_state\n",
    "    \n",
    "    for t in t_arr:\n",
    "        states.append(now_state)\n",
    "        next_state = solver(f, now_state, t, tau)\n",
    "        now_state = next_state\n",
    "    \n",
    "    return np.array(states)"
   ]
  },
  {
   "cell_type": "code",
   "execution_count": 6,
   "id": "a0658939",
   "metadata": {
    "ExecuteTime": {
     "end_time": "2023-03-21T01:34:39.146522Z",
     "start_time": "2023-03-21T01:34:39.136059Z"
    }
   },
   "outputs": [],
   "source": [
    "def radial2cartesian(theta_1, theta_2, l_1, l_2):\n",
    "    '''\n",
    "    Convert from radial to cartesian coordinates\n",
    "    '''\n",
    "    x_1 = l_1 * np.sin(theta_1)\n",
    "    y_1 = -l_1 * np.cos(theta_1)\n",
    "    x_2 = x_1 + l_2 * np.sin(theta_2)\n",
    "    y_2 = y_1 - l_2 * np.cos(theta_2)\n",
    "    return x_1, y_1, x_2, y_2\n",
    "\n",
    "def plot_predicted_trajectory(cart_coords, model_name, save=False, verbose=True):\n",
    "    \"\"\"\n",
    "    Plot predicted trajectory\n",
    "    \"\"\"\n",
    "    _, _, x_2, y_2 = cart_coords\n",
    "    \n",
    "    length = len(x_2)\n",
    "    t = np.arange(length)\n",
    "    \n",
    "    plt.title(f\"{model_name}\" + f\"Timeseries - {length} timesteps\")\n",
    "\n",
    "    plt.plot(x_2, y_2, marker='.', color=\"lightgray\", zorder=0)\n",
    "    plt.scatter(x_2, y_2, marker='o', c=t[:length], cmap=\"viridis\", s=10, zorder=1)\n",
    "\n",
    "    plt.xlabel(\"$x$\")\n",
    "    plt.ylabel(\"$y$\")\n",
    "\n",
    "    cbar = plt.colorbar()\n",
    "    cbar.ax.set_ylabel('$t$', rotation=270)\n",
    "\n",
    "    plt.tight_layout()\n",
    "    if save == True:\n",
    "        plt.savefig(Path('figures', f'Predicted_trajectory_{model_name}.png'), dpi=150)\n",
    "    if verbose == True:\n",
    "        plt.show()\n",
    "\n",
    "def get_dynamics_coords(states, model_name, save = False, verbose = True):\n",
    "    \n",
    "    \"\"\"\n",
    "    Get dynamics coords\n",
    "    states: ...\n",
    "    input...\n",
    "    output...\n",
    "    \"\"\"\n",
    "    \n",
    "    L_1, L_2 = 1, 1\n",
    "    theta_1, theta_2 = states[:, 0], states[:, 1]\n",
    "    cart_coords = radial2cartesian(theta_1, theta_2, L_1, L_2)\n",
    "    plot_predicted_trajectory(cart_coords, model_name=model_name, save=save, verbose=verbose)\n",
    "    return cart_coords"
   ]
  },
  {
   "cell_type": "markdown",
   "id": "964e6e43",
   "metadata": {},
   "source": [
    "# Раздел 2. \n",
    "## Порождение данных..."
   ]
  },
  {
   "cell_type": "code",
   "execution_count": 7,
   "id": "1abb65bb",
   "metadata": {
    "ExecuteTime": {
     "end_time": "2023-03-21T01:34:41.137260Z",
     "start_time": "2023-03-21T01:34:41.132746Z"
    }
   },
   "outputs": [],
   "source": [
    "# Parameters...\n",
    "\n",
    "TIME_STEP = 0.01  # (used for ...)\n",
    "RANDOM_STATE = 123\n",
    "N = 2500\n",
    "n_trajectories = 20\n",
    "s = 2"
   ]
  },
  {
   "cell_type": "markdown",
   "id": "c25cc745",
   "metadata": {},
   "source": [
    "Generating trajectories and separation to train and test"
   ]
  },
  {
   "cell_type": "code",
   "execution_count": 12,
   "id": "84da1f8f",
   "metadata": {
    "ExecuteTime": {
     "end_time": "2023-03-21T01:34:44.997248Z",
     "start_time": "2023-03-21T01:34:42.049508Z"
    }
   },
   "outputs": [],
   "source": [
    "\"\"\"\n",
    "Generating trajectories and separation to train and test\n",
    "\"\"\"\n",
    "# плохо!\n",
    "\n",
    "time_step = TIME_STEP\n",
    "t = np.arange(0, time_step * N, time_step) \n",
    "np.random.seed(seed = RANDOM_STATE)\n",
    "\n",
    "initial_angles = np.random.uniform(0, 1, (n_trajectories, 2)) * np.pi\n",
    "initial_states = np.array([[angle_1, angle_2, 0, 0] for (angle_1, angle_2) in initial_angles])\n",
    "\n",
    "trajectories = np.array([solve_numerical(f_analytical, initial_state, t, time_step) for initial_state in initial_states])\n",
    "\n",
    "x_train = trajectories[:, :(4 * N // 5), :].reshape(-1, 2 * s)\n",
    "x_test = trajectories[:, (4 * N // 5):, :].reshape(-1, 2 * s)\n",
    "\n",
    "y_train = f_analytical(x_train)\n",
    "y_test = f_analytical(x_test)\n",
    "\n",
    "with open(Path(\"dataset\", \"data\", \"train_data_new.pickle\"), 'wb') as handle:\n",
    "    pickle.dump([x_train, y_train], handle, protocol=pickle.HIGHEST_PROTOCOL)\n",
    "        \n",
    "with open(Path(\"dataset\", \"data\", \"test_data_new.pickle\"), 'wb') as handle:\n",
    "    pickle.dump([x_test, y_test], handle, protocol=pickle.HIGHEST_PROTOCOL)"
   ]
  },
  {
   "cell_type": "code",
   "execution_count": 61,
   "id": "7d702d29",
   "metadata": {
    "ExecuteTime": {
     "end_time": "2023-03-21T01:34:46.135736Z",
     "start_time": "2023-03-21T01:34:46.100879Z"
    }
   },
   "outputs": [],
   "source": [
    "\"\"\"\n",
    "Uploading a dataset \n",
    "\"\"\"\n",
    "class DoublePendulumDataset(Dataset):\n",
    "    def __init__(self, x_set, y_set):\n",
    "        self.sample_list = list(zip(x_set, y_set))\n",
    "        \n",
    "    def __len__(self):\n",
    "        return len(self.sample_list)\n",
    "    \n",
    "    def transform(state):\n",
    "        angles = state[:s]\n",
    "        return np.hstack(((angles + np.pi) % (2 * np.pi) - np.pi, state[2:]))\n",
    "\n",
    "    def __getitem__(self, idx):\n",
    "        x_sample, y_sample = self.sample_list[idx]\n",
    "        x_sample = DoublePendulumDataset.transform(x_sample)\n",
    "        return x_sample.astype('float32'), y_sample.astype('float32')\n",
    "    \n",
    "\n",
    "    \n",
    "class NoetherDoublePendulumDataset(Dataset):\n",
    "    def __init__(self, x_set, y_set):\n",
    "        self.sample_list = list(zip(x_set, y_set))\n",
    "        \n",
    "    def __len__(self):\n",
    "        return len(self.sample_list)\n",
    "    \n",
    "    def transform(state):\n",
    "        angle1, angle2 = state[:s]\n",
    "        return np.hstack(((np.abs(angle2 - angle1) + np.pi) % (2 * np.pi) - np.pi, state[2:]))\n",
    "\n",
    "    def __getitem__(self, idx):\n",
    "        x_sample, y_sample = self.sample_list[idx]\n",
    "        x_sample = DoublePendulumDataset.transform(x_sample)\n",
    "        return x_sample.astype('float32'), y_sample.astype('float32')\n",
    "    \n",
    "\n",
    "\n",
    "with open(Path(\"dataset\", \"data\", \"train_data_new.pickle\"), 'rb') as f:\n",
    "    train_data = pickle.load(f)\n",
    "with open(Path(\"dataset\", \"data\", \"test_data_new.pickle\"), 'rb') as f:\n",
    "    test_data = pickle.load(f)\n",
    "    \n",
    "[x_train, y_train] = train_data\n",
    "[x_test, y_test] = test_data\n",
    "    \n",
    "train_dataset = DoublePendulumDataset(x_train, y_train)\n",
    "test_dataset = DoublePendulumDataset(x_test, y_test)"
   ]
  },
  {
   "cell_type": "code",
   "execution_count": 94,
   "id": "6cdeba9c",
   "metadata": {
    "ExecuteTime": {
     "end_time": "2023-03-21T01:34:47.732217Z",
     "start_time": "2023-03-21T01:34:47.726035Z"
    }
   },
   "outputs": [],
   "source": [
    "class BaselineNN(nn.Module):\n",
    "    '''\n",
    "    Neural network\n",
    "    '''\n",
    "    def __init__(self, input_size = 4, hidden_size = []):\n",
    "        super().__init__()\n",
    "        \n",
    "        self.sequence = nn.Sequential(\n",
    "            nn.Linear(input_size, 128),\n",
    "            nn.Softplus(),\n",
    "            nn.Linear(128, 128),\n",
    "            nn.Softplus(),\n",
    "            nn.Linear(128, 1),\n",
    "        )\n",
    "     \n",
    "    def forward(self, x):\n",
    "        return self.sequence(x)"
   ]
  },
  {
   "cell_type": "code",
   "execution_count": 87,
   "id": "9632153e",
   "metadata": {
    "ExecuteTime": {
     "end_time": "2023-03-21T01:34:51.606294Z",
     "start_time": "2023-03-21T01:34:51.593443Z"
    }
   },
   "outputs": [],
   "source": [
    "def train_lnn_epoch(model, train_loader, optimizer, verbose=True):\n",
    "    '''\n",
    "    Train epoch\n",
    "    '''\n",
    "    \n",
    "    model.train()\n",
    "    \n",
    "    loss_func = nn.MSELoss()\n",
    "    total_loss = 0\n",
    "    \n",
    "    for batch in tqdm(train_loader, disable=not verbose):\n",
    "        coords, targets = batch\n",
    "        \n",
    "        preds = torch.zeros((len(targets), 2 * s))\n",
    "        \n",
    "        for i, coord in enumerate(coords):\n",
    "            \n",
    "            J = jacobian(model, coord, create_graph=True, strict=True)[0]\n",
    "            J_q = J[:s]\n",
    "            \n",
    "            H = hessian(model, coord, create_graph=True, strict=True)\n",
    "            H_qt_qt = H[s:, s:]\n",
    "            H_qt_q = H[:s, s:].T\n",
    "            \n",
    "            q_tt = torch.inverse(H_qt_qt) @ (J_q - H_qt_q @ coord[s:])\n",
    "\n",
    "            preds[i] = torch.cat((coord[s:], q_tt))\n",
    "            \n",
    "        loss = loss_func(preds, targets)\n",
    "        optimizer.zero_grad()\n",
    "        loss.backward()\n",
    "        optimizer.step()\n",
    "        \n",
    "        total_loss += loss.cpu().detach().numpy()\n",
    "    \n",
    "    model.eval()\n",
    "    \n",
    "    return total_loss / len(train_loader)\n",
    "\n",
    "\n",
    "'''\n",
    "Train epoch\n",
    "'''\n",
    "def test_lnn_epoch(model, test_loader, verbose=True):\n",
    "    model.eval()\n",
    "    \n",
    "    loss_func = nn.MSELoss()\n",
    "    total_loss = 0\n",
    "    \n",
    "    for batch in tqdm(test_loader, disable=not verbose):\n",
    "        coords, targets = batch\n",
    "\n",
    "        preds = torch.zeros((len(targets), 2 * s))\n",
    "        \n",
    "        for i, coord in enumerate(coords):\n",
    "\n",
    "            J = jacobian(model, coord)[0]\n",
    "            J_q = J[:s]\n",
    "            \n",
    "            H = hessian(model, coord)\n",
    "            H_qt_qt = H[s:, s:]\n",
    "            H_qt_q = H[:s, s:].T\n",
    "            \n",
    "            q_tt = torch.inverse(H_qt_qt) @ (J_q - H_qt_q @ coord[s:])\n",
    "\n",
    "            preds[i] = torch.cat((coord[s:], q_tt))\n",
    "\n",
    "        total_loss += loss_func(preds, targets).cpu().detach().numpy()\n",
    "\n",
    "    return total_loss / len(test_loader)\n",
    "\n",
    "\n",
    "'''\n",
    "Test epoch\n",
    "'''\n",
    "def train_lnn_model(model, train_loader, test_loader, num_epochs, lr, verbose=True):\n",
    "\n",
    "    optimizer = optim.Adam(model.parameters(), lr=lr)\n",
    "\n",
    "    train_losses = []\n",
    "    test_losses = []\n",
    "    \n",
    "    for epoch in range(num_epochs):\n",
    "        train_loss = train_lnn_epoch(model, train_loader, optimizer, verbose=verbose)\n",
    "        test_loss = test_lnn_epoch(model, test_loader, verbose=verbose)\n",
    "        train_losses.append(train_loss)\n",
    "        test_losses.append(test_loss)\n",
    "        \n",
    "        if verbose == True:\n",
    "            print(f'============= Epoch {epoch + 1} =============')\n",
    "            print(f'train loss: {train_loss}')\n",
    "            print(f'test loss: {test_loss}')\n",
    "\n",
    "            \n",
    "    print('done!')\n",
    "    return train_losses, test_losses "
   ]
  },
  {
   "cell_type": "code",
   "execution_count": 191,
   "id": "09df1385",
   "metadata": {},
   "outputs": [],
   "source": [
    "def train_nlnn_epoch(model, train_loader, optimizer, verbose=True):\n",
    "    '''\n",
    "    Train epoch\n",
    "    '''\n",
    "    \n",
    "    def lagrangian(state):\n",
    "        theta1, theta2, w1, w2 = state\n",
    "        diff = (theta1 - theta2).reshape(1, -1)\n",
    "        V =  model(diff)\n",
    "        \n",
    "        return 0.5 * torch.pow(w1,2) + 0.5 *(torch.pow(w1, 2) + torch.pow(w2, 2) + \\\n",
    "                        2 * w1 * w2 * torch.cos(diff)) - V\n",
    "    \n",
    "    \n",
    "    model.train()\n",
    "    \n",
    "    loss_func = nn.MSELoss()\n",
    "    total_loss = 0\n",
    "    \n",
    "    for batch in tqdm(train_loader, disable=not verbose):\n",
    "        coords, targets = batch\n",
    "        \n",
    "        preds = torch.zeros((len(targets), 4))\n",
    "        \n",
    "        for i, coord in enumerate(coords):\n",
    "            \n",
    "            J = jacobian(lagrangian, coord, create_graph=True, strict=True)[0][0]\n",
    "            J_q = J[:s]\n",
    "            \n",
    "            H = hessian(lagrangian, coord, create_graph=True, strict=True)\n",
    "            H_qt_qt = H[s:, s:]\n",
    "            H_qt_q = H[:s, s:].T\n",
    "            \n",
    "            q_tt = torch.inverse(H_qt_qt) @ (J_q - H_qt_q @ coord[s:])\n",
    "\n",
    "            preds[i] = torch.cat((coord[s:], q_tt))\n",
    "            \n",
    "        loss = loss_func(preds, targets)\n",
    "        optimizer.zero_grad()\n",
    "        loss.backward()\n",
    "        optimizer.step()\n",
    "        \n",
    "        total_loss += loss.cpu().detach().numpy()\n",
    "    \n",
    "    model.eval()\n",
    "    \n",
    "    return total_loss / len(train_loader)\n",
    "\n",
    "\n",
    "'''\n",
    "Train epoch\n",
    "'''\n",
    "def test_nlnn_epoch(model, test_loader, verbose=True):\n",
    "    model.eval()\n",
    "    \n",
    "\n",
    "    def lagrangian(state):\n",
    "        theta1, theta2, w1, w2 = state\n",
    "        diff = (theta1 - theta2).reshape(1, -1)\n",
    "        V =  model(diff)\n",
    "        \n",
    "        return 0.5 * torch.pow(w1,2) + 0.5 *(torch.pow(w1, 2) + torch.pow(w2, 2) + \\\n",
    "                        2 * w1 * w2 * torch.cos(diff)) - V\n",
    "    \n",
    "    loss_func = nn.MSELoss()\n",
    "    total_loss = 0\n",
    "    \n",
    "    for batch in tqdm(test_loader, disable=not verbose):\n",
    "        coords, targets = batch\n",
    "\n",
    "        preds = torch.zeros((len(targets), 2 * s))\n",
    "        \n",
    "        for i, coord in enumerate(coords):\n",
    "\n",
    "            J = jacobian(lagrangian, coord)[0][0]\n",
    "            J_q = J[:s]\n",
    "            \n",
    "            H = hessian(lagrangian, coord)\n",
    "            H_qt_qt = H[s:, s:]\n",
    "            H_qt_q = H[:s, s:].T\n",
    "            \n",
    "            q_tt = torch.inverse(H_qt_qt) @ (J_q - H_qt_q @ coord[s:])\n",
    "\n",
    "            preds[i] = torch.cat((coord[s:], q_tt))\n",
    "\n",
    "        total_loss += loss_func(preds, targets).cpu().detach().numpy()\n",
    "\n",
    "    return total_loss / len(test_loader)\n",
    "\n",
    "\n",
    "'''\n",
    "Test epoch\n",
    "'''\n",
    "def train_nlnn_model(model, train_loader, test_loader, num_epochs, lr, verbose=True):\n",
    "\n",
    "    optimizer = optim.Adam(model.parameters(), lr=lr)\n",
    "\n",
    "    train_losses = []\n",
    "    test_losses = []\n",
    "    \n",
    "    for epoch in range(num_epochs):\n",
    "        train_loss = train_nlnn_epoch(model, train_loader, optimizer, verbose=verbose)\n",
    "        test_loss = test_nlnn_epoch(model, test_loader, verbose=verbose)\n",
    "        train_losses.append(train_loss)\n",
    "        test_losses.append(test_loss)\n",
    "        \n",
    "        if verbose == True:\n",
    "            print(f'============= Epoch {epoch + 1} =============')\n",
    "            print(f'train loss: {train_loss}')\n",
    "            print(f'test loss: {test_loss}')\n",
    "\n",
    "            \n",
    "    print('done!')\n",
    "    return train_losses, test_losses "
   ]
  },
  {
   "cell_type": "code",
   "execution_count": 197,
   "id": "db79802c",
   "metadata": {
    "ExecuteTime": {
     "end_time": "2023-03-21T01:51:06.353009Z",
     "start_time": "2023-03-21T01:51:06.335963Z"
    }
   },
   "outputs": [],
   "source": [
    "BATCH_SIZE = 64\n",
    "LR = 5e-4\n",
    "NUM_EPOCHS = 2"
   ]
  },
  {
   "cell_type": "code",
   "execution_count": 198,
   "id": "810c071c",
   "metadata": {},
   "outputs": [
    {
     "name": "stdout",
     "output_type": "stream",
     "text": [
      "device: cpu\n"
     ]
    }
   ],
   "source": [
    "enforce_cpu = True\n",
    "\n",
    "if torch.cuda.is_available() and (enforce_cpu == False):\n",
    "    device = 'cuda'\n",
    "else:\n",
    "    device = 'cpu'\n",
    "\n",
    "print('device: {}'.format(device))\n",
    "\n",
    "#lnn_model = BaselineNN().to(device)"
   ]
  },
  {
   "cell_type": "code",
   "execution_count": 199,
   "id": "e8200db0",
   "metadata": {
    "ExecuteTime": {
     "end_time": "2023-03-21T01:34:58.224991Z",
     "start_time": "2023-03-21T01:34:58.219835Z"
    }
   },
   "outputs": [],
   "source": [
    "train_loader = DataLoader(train_dataset, batch_size=BATCH_SIZE, shuffle=True)\n",
    "test_loader  = DataLoader(test_dataset, batch_size=BATCH_SIZE)"
   ]
  },
  {
   "cell_type": "code",
   "execution_count": 200,
   "id": "8fa6ca65",
   "metadata": {
    "ExecuteTime": {
     "end_time": "2023-03-21T01:35:02.081548Z",
     "start_time": "2023-03-21T01:35:02.071875Z"
    }
   },
   "outputs": [],
   "source": [
    "nlnn_model = BaselineNN(input_size = 1)"
   ]
  },
  {
   "cell_type": "code",
   "execution_count": 201,
   "id": "88a701a9",
   "metadata": {
    "ExecuteTime": {
     "end_time": "2023-03-21T01:46:00.884335Z",
     "start_time": "2023-03-21T01:35:04.489033Z"
    }
   },
   "outputs": [
    {
     "name": "stderr",
     "output_type": "stream",
     "text": [
      "100%|████████████████████████████████████████████████████████████████████████████████| 625/625 [08:40<00:00,  1.20it/s]\n",
      "100%|████████████████████████████████████████████████████████████████████████████████| 157/157 [00:53<00:00,  2.92it/s]\n"
     ]
    },
    {
     "name": "stdout",
     "output_type": "stream",
     "text": [
      "============= Epoch 1 =============\n",
      "train loss: 14.857611477661132\n",
      "test loss: 14.27362791899663\n"
     ]
    },
    {
     "name": "stderr",
     "output_type": "stream",
     "text": [
      "100%|████████████████████████████████████████████████████████████████████████████████| 625/625 [08:00<00:00,  1.30it/s]\n",
      "100%|████████████████████████████████████████████████████████████████████████████████| 157/157 [00:50<00:00,  3.10it/s]"
     ]
    },
    {
     "name": "stdout",
     "output_type": "stream",
     "text": [
      "============= Epoch 2 =============\n",
      "train loss: 14.266097229003906\n",
      "test loss: 14.231915790563935\n",
      "done!\n"
     ]
    },
    {
     "name": "stderr",
     "output_type": "stream",
     "text": [
      "\n"
     ]
    }
   ],
   "source": [
    "train_losses, test_losses = train_nlnn_model(nlnn_model, train_loader, test_loader, NUM_EPOCHS, LR)"
   ]
  },
  {
   "cell_type": "code",
   "execution_count": 202,
   "id": "bfa4a8a5",
   "metadata": {
    "ExecuteTime": {
     "end_time": "2023-03-21T01:17:40.227047Z",
     "start_time": "2023-03-21T01:17:40.222837Z"
    }
   },
   "outputs": [],
   "source": [
    "'''\n",
    "Result of training lnn\n",
    "'''\n",
    "def f_lnn(state, model = lnn_model):\n",
    "    \n",
    "    state = DoublePendulumDataset.transform(state)\n",
    "    state = torch.from_numpy(state.astype('float32'))\n",
    "    \n",
    "    J = jacobian(model, state)[0]\n",
    "    J_q = J[:s]\n",
    "    \n",
    "    H = hessian(model, state)\n",
    "    H_qt_qt = H[s:, s:]\n",
    "    H_qt_q = H[:s, s:].T\n",
    "\n",
    "    q_tt = torch.inverse(H_qt_qt) @ (J_q - H_qt_q @ state[s:])\n",
    "\n",
    "    return torch.cat((state[s:], q_tt)).numpy()\n",
    "\n",
    "\n",
    "\n",
    "def f_nlnn(state, model = nlnn_model):\n",
    "    state = DoublePendulumDataset.transform(state)\n",
    "    state = torch.from_numpy(state.astype('float32'))\n",
    "    \n",
    "\n",
    "    def lagrangian(state):\n",
    "        theta1, theta2, w1, w2 = state\n",
    "        diff = (theta1 - theta2).reshape(1, -1)\n",
    "        V =  model(diff)\n",
    "        \n",
    "        return 0.5 * torch.pow(w1,2) + 0.5 * (torch.pow(w1, 2) + torch.pow(w2, 2) + \\\n",
    "                        2 * w1 * w2 * torch.cos(diff)) - V\n",
    "    \n",
    "    \n",
    "    J = jacobian(lagrangian, state)[0][0]\n",
    "    J_q = J[:s]\n",
    "    \n",
    "    H = hessian(lagrangian, state)\n",
    "    H_qt_qt = H[s:, s:]\n",
    "    H_qt_q = H[:s, s:].T\n",
    "    \n",
    "    q_tt = torch.inverse(H_qt_qt) @ (J_q - H_qt_q @ state[s:])\n",
    "\n",
    "    return torch.cat((state[s:], q_tt)).numpy()"
   ]
  },
  {
   "cell_type": "code",
   "execution_count": 219,
   "id": "9663d062",
   "metadata": {
    "ExecuteTime": {
     "end_time": "2023-03-21T01:17:40.762508Z",
     "start_time": "2023-03-21T01:17:40.758424Z"
    }
   },
   "outputs": [],
   "source": [
    "'''\n",
    "Parameters\n",
    "'''\n",
    "k = 7\n",
    "time_step = TIME_STEP\n",
    "n = 300\n",
    "t_arr = np.arange(0, time_step * n, time_step) "
   ]
  },
  {
   "cell_type": "code",
   "execution_count": 220,
   "id": "fe6d7134",
   "metadata": {
    "ExecuteTime": {
     "end_time": "2023-03-21T01:17:43.421285Z",
     "start_time": "2023-03-21T01:17:41.300654Z"
    }
   },
   "outputs": [
    {
     "name": "stdout",
     "output_type": "stream",
     "text": [
      "[[ 1.25049291  2.31848095  0.          0.        ]\n",
      " [ 1.25063077  2.31825006  0.02757511 -0.04617915]\n",
      " [ 1.25104453  2.31755724  0.05518726 -0.092396  ]\n",
      " [ 1.25173476  2.31640189  0.08287359 -0.13868841]\n",
      " [ 1.25270238  2.31478309  0.11067141 -0.18509457]\n",
      " [ 1.25394869  2.31269949  0.13861832 -0.23165316]\n",
      " [ 1.25547537  2.31014939  0.16675232 -0.27840351]\n",
      " [ 1.25728448  2.30713065  0.19511183 -0.32538575]\n",
      " [ 1.25937849  2.30364076  0.2237359  -0.37264102]\n",
      " [ 1.26176022  2.29967678  0.25266417 -0.42021158]]\n",
      "[[ 1.25049291  2.31848095  0.          0.        ]\n",
      " [ 1.25006471  2.31832791 -0.08563184 -0.03062672]\n",
      " [ 1.24878055  2.31786764 -0.171181   -0.06148339]\n",
      " [ 1.24664165  2.31709671 -0.25656477 -0.09279939]\n",
      " [ 1.24365008  2.31600936 -0.34170043 -0.124803  ]\n",
      " [ 1.23980874  2.3145976  -0.42650517 -0.15772078]\n",
      " [ 1.23512135  2.31285115 -0.51089607 -0.19177704]\n",
      " [ 1.22959248  2.31075753 -0.59478997 -0.22719324]\n",
      " [ 1.22322749  2.30830203 -0.67810334 -0.26418744]\n",
      " [ 1.21603262  2.3054678  -0.76075205 -0.30297369]]\n"
     ]
    }
   ],
   "source": [
    "'''\n",
    "Results\n",
    "'''\n",
    "initial_state = initial_states[k]\n",
    "pred_trajectory = solve_numerical(f_nlnn, initial_state, t_arr, time_step, solver=rk4_step_rectified)\n",
    "print(pred_trajectory[:10])\n",
    "print(trajectories[k][:10])"
   ]
  },
  {
   "cell_type": "code",
   "execution_count": 221,
   "id": "254e41b5",
   "metadata": {
    "ExecuteTime": {
     "end_time": "2023-03-21T01:14:16.257649Z",
     "start_time": "2023-03-21T01:14:15.788157Z"
    },
    "scrolled": false
   },
   "outputs": [
    {
     "data": {
      "image/png": "[encoded data removed]",
      "text/plain": [
       "<Figure size 640x480 with 2 Axes>"
      ]
     },
     "metadata": {},
     "output_type": "display_data"
    },
    {
     "data": {
      "image/png": "[encoded data removed]",
      "text/plain": [
       "<Figure size 640x480 with 2 Axes>"
      ]
     },
     "metadata": {},
     "output_type": "display_data"
    }
   ],
   "source": [
    "'''\n",
    "Plots\n",
    "'''\n",
    "_ = get_dynamics_coords(trajectories[k][:n], 'trajectory rk4')\n",
    "_ = get_dynamics_coords(pred_trajectory, 'predicted trajectory')"
   ]
  },
  {
   "cell_type": "code",
   "execution_count": null,
   "id": "9a1f8f14",
   "metadata": {},
   "outputs": [],
   "source": []
  }
 ],
 "metadata": {
  "kernelspec": {
   "display_name": "Python 3 (ipykernel)",
   "language": "python",
   "name": "python3"
  },
  "language_info": {
   "codemirror_mode": {
    "name": "ipython",
    "version": 3
   },
   "file_extension": ".py",
   "mimetype": "text/x-python",
   "name": "python",
   "nbconvert_exporter": "python",
   "pygments_lexer": "ipython3",
   "version": "3.9.13"
  }
 },
 "nbformat": 4,
 "nbformat_minor": 5
}
