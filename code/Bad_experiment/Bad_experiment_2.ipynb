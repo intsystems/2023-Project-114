{
 "cells": [
  {
   "cell_type": "code",
   "execution_count": 2,
   "id": "4b0e882f",
   "metadata": {
    "ExecuteTime": {
     "end_time": "2023-04-04T12:40:11.755264Z",
     "start_time": "2023-04-04T12:40:11.743663Z"
    }
   },
   "outputs": [],
   "source": [
    "import numpy as np\n",
    "\n",
    "from pathlib import Path\n",
    "\n",
    "import matplotlib\n",
    "import matplotlib.pyplot as plt\n",
    "\n",
    "import pickle\n",
    "\n",
    "from tqdm import tqdm\n",
    "\n",
    "import torch\n",
    "from torch import nn\n",
    "import torch.nn.functional as F\n",
    "from torch.utils.data import Dataset, DataLoader\n",
    "from torch.autograd.functional import jacobian\n",
    "from torch.autograd.functional import hessian\n",
    "import torch.optim as optim"
   ]
  },
  {
   "cell_type": "code",
   "execution_count": 3,
   "id": "a42db1c4",
   "metadata": {
    "ExecuteTime": {
     "end_time": "2023-04-04T12:40:12.186453Z",
     "start_time": "2023-04-04T12:40:12.171448Z"
    }
   },
   "outputs": [],
   "source": [
    "def f_analytical(states, t=0, m_1=1, m_2=1, l_1=1, l_2=1, g=9.8):\n",
    "    \"\"\"\n",
    "    The analytical dynamics of the system\n",
    "    \"\"\"\n",
    "    theta_1, theta_2, omega_1, omega_2 = states.T\n",
    "    \n",
    "    a_1 = (l_2 / l_1) * (m_2 / (m_1 + m_2)) * np.cos(theta_1 - theta_2)\n",
    "    a_2 = (l_1 / l_2) * np.cos(theta_1 - theta_2)\n",
    "    \n",
    "    \n",
    "    f_1 = -(l_2 / l_1) * (m_2 / (m_1 + m_2)) * (omega_2**2) * np.sin(theta_1 - theta_2) - (g / l_1) * np.sin(theta_1)\n",
    "    f_2 = (l_1 / l_2) * (omega_1**2) * np.sin(theta_1 - theta_2) - (g / l_2) * np.sin(theta_2)\n",
    "    g_1 = (f_1 - a_1 * f_2) / (1 - a_1 * a_2)\n",
    "    g_2 = (f_2 - a_2 * f_1) / (1 - a_1 * a_2)\n",
    "    \n",
    "    return np.array([omega_1, omega_2, g_1, g_2]).T\n",
    "\n",
    "\n",
    "def rk4_step(f, x, t, tau):\n",
    "    \"\"\"\n",
    "    One step of runge-kutta integration f(x, t)\n",
    "    \"\"\"\n",
    "    k_1 = tau * f(x, tau)\n",
    "    k_2 = tau * f(x + k_1/2, t + tau/2)\n",
    "    k_3 = tau * f(x + k_2/2, t + tau/2)\n",
    "    k_4 = tau * f(x + k_3, t + tau)\n",
    "    \n",
    "    return x + 1/6 * (k_1 + 2 * k_2 + 2 * k_3 + k_4)\n",
    "\n",
    "\n",
    "def rk4_step_rectified(f, x, t, tau, model):\n",
    "    \"\"\"\n",
    "    One step of runge-kutta integration f(x)\n",
    "    \"\"\"    \n",
    "    k_1 = tau * f(x, model)\n",
    "    k_2 = tau * f(x + k_1/2, model)\n",
    "    k_3 = tau * f(x + k_2/2, model)\n",
    "    k_4 = tau * f(x + k_3, model)\n",
    "    \n",
    "    return x + 1/6 * (k_1 + 2 * k_2 + 2 * k_3 + k_4)\n",
    "\n",
    "def solve_numerical(f, initial_state, t_arr, tau, model, solver=rk4_step):\n",
    "    \"\"\"\n",
    "    Steps of solver\n",
    "    \"\"\" \n",
    "    states = []\n",
    "    now_state = initial_state\n",
    "    \n",
    "    for t in t_arr:\n",
    "        states.append(now_state)\n",
    "        next_state = solver(f, now_state, t, tau, model)\n",
    "        now_state = next_state\n",
    "    \n",
    "    return np.array(states)"
   ]
  },
  {
   "cell_type": "code",
   "execution_count": 4,
   "id": "a0658939",
   "metadata": {
    "ExecuteTime": {
     "end_time": "2023-04-04T12:40:12.826964Z",
     "start_time": "2023-04-04T12:40:12.816702Z"
    }
   },
   "outputs": [],
   "source": [
    "def radial2cartesian(theta_1, theta_2, l_1, l_2):\n",
    "    '''\n",
    "    Convert from radial to cartesian coordinates\n",
    "    '''\n",
    "    x_1 = l_1 * np.sin(theta_1)\n",
    "    y_1 = -l_1 * np.cos(theta_1)\n",
    "    x_2 = x_1 + l_2 * np.sin(theta_2)\n",
    "    y_2 = y_1 - l_2 * np.cos(theta_2)\n",
    "    return x_1, y_1, x_2, y_2\n",
    "\n",
    "def plot_predicted_trajectory(cart_coords, model_name, save=False, verbose=True):\n",
    "    \"\"\"\n",
    "    Plot predicted trajectory\n",
    "    \"\"\"\n",
    "    _, _, x_2, y_2 = cart_coords\n",
    "    \n",
    "    length = len(x_2)\n",
    "    t = np.arange(length)\n",
    "    \n",
    "    plt.title(f\"{model_name}\" + f\"Timeseries - {length} timesteps\")\n",
    "\n",
    "    plt.plot(x_2, y_2, marker='.', color=\"lightgray\", zorder=0)\n",
    "    plt.scatter(x_2, y_2, marker='o', c=t[:length], cmap=\"viridis\", s=10, zorder=1)\n",
    "\n",
    "    plt.xlabel(\"$x$\")\n",
    "    plt.ylabel(\"$y$\")\n",
    "\n",
    "    cbar = plt.colorbar()\n",
    "    cbar.ax.set_ylabel('$t$', rotation=270)\n",
    "\n",
    "    plt.tight_layout()\n",
    "    if save == True:\n",
    "        plt.savefig(Path('figures', f'Predicted_trajectory_{model_name}.png'), dpi=150)\n",
    "    if verbose == True:\n",
    "        plt.show()\n",
    "\n",
    "def get_dynamics_coords(states, model_name, save=False, verbose=True):\n",
    "    \"\"\"\n",
    "    Get dynamics coords\n",
    "    \"\"\"\n",
    "    l_1, l_2 = 1, 1\n",
    "    theta_1, theta_2 = states[:, 0], states[:, 1]\n",
    "    cart_coords = radial2cartesian(theta_1, theta_2, l_1, l_2)\n",
    "    plot_predicted_trajectory(cart_coords, model_name=model_name, save=save, verbose=verbose)\n",
    "    return cart_coords"
   ]
  },
  {
   "cell_type": "code",
   "execution_count": 5,
   "id": "1abb65bb",
   "metadata": {
    "ExecuteTime": {
     "end_time": "2023-04-04T12:40:13.596825Z",
     "start_time": "2023-04-04T12:40:13.593918Z"
    }
   },
   "outputs": [],
   "source": [
    "'''\n",
    "Parameters\n",
    "'''\n",
    "TIME_STEP = 0.01\n",
    "RANDOM_STATE = 123\n",
    "N = 2500\n",
    "n_trajectories = 20\n",
    "s = 2"
   ]
  },
  {
   "cell_type": "code",
   "execution_count": 6,
   "id": "84da1f8f",
   "metadata": {
    "ExecuteTime": {
     "end_time": "2023-04-04T12:40:14.748642Z",
     "start_time": "2023-04-04T12:40:14.310297Z"
    }
   },
   "outputs": [
    {
     "ename": "TypeError",
     "evalue": "solve_numerical() missing 1 required positional argument: 'model'",
     "output_type": "error",
     "traceback": [
      "\u001b[0;31m---------------------------------------------------------------------------\u001b[0m",
      "\u001b[0;31mTypeError\u001b[0m                                 Traceback (most recent call last)",
      "\u001b[0;32m/var/folders/88/gsb2h1td1v772jpnk7t4k9qm0000gn/T/ipykernel_52684/2154937092.py\u001b[0m in \u001b[0;36m<module>\u001b[0;34m\u001b[0m\n\u001b[1;32m      9\u001b[0m \u001b[0minitial_states\u001b[0m \u001b[0;34m=\u001b[0m \u001b[0mnp\u001b[0m\u001b[0;34m.\u001b[0m\u001b[0marray\u001b[0m\u001b[0;34m(\u001b[0m\u001b[0;34m[\u001b[0m\u001b[0;34m[\u001b[0m\u001b[0mangle_1\u001b[0m\u001b[0;34m,\u001b[0m \u001b[0mangle_2\u001b[0m\u001b[0;34m,\u001b[0m \u001b[0;36m0\u001b[0m\u001b[0;34m,\u001b[0m \u001b[0;36m0\u001b[0m\u001b[0;34m]\u001b[0m \u001b[0;32mfor\u001b[0m \u001b[0;34m(\u001b[0m\u001b[0mangle_1\u001b[0m\u001b[0;34m,\u001b[0m \u001b[0mangle_2\u001b[0m\u001b[0;34m)\u001b[0m \u001b[0;32min\u001b[0m \u001b[0minitial_angles\u001b[0m\u001b[0;34m]\u001b[0m\u001b[0;34m)\u001b[0m\u001b[0;34m\u001b[0m\u001b[0;34m\u001b[0m\u001b[0m\n\u001b[1;32m     10\u001b[0m \u001b[0;34m\u001b[0m\u001b[0m\n\u001b[0;32m---> 11\u001b[0;31m \u001b[0mtrajectories\u001b[0m \u001b[0;34m=\u001b[0m \u001b[0mnp\u001b[0m\u001b[0;34m.\u001b[0m\u001b[0marray\u001b[0m\u001b[0;34m(\u001b[0m\u001b[0;34m[\u001b[0m\u001b[0msolve_numerical\u001b[0m\u001b[0;34m(\u001b[0m\u001b[0mf_analytical\u001b[0m\u001b[0;34m,\u001b[0m \u001b[0minitial_state\u001b[0m\u001b[0;34m,\u001b[0m \u001b[0mt\u001b[0m\u001b[0;34m,\u001b[0m \u001b[0mtime_step\u001b[0m\u001b[0;34m)\u001b[0m \u001b[0;32mfor\u001b[0m \u001b[0minitial_state\u001b[0m \u001b[0;32min\u001b[0m \u001b[0minitial_states\u001b[0m\u001b[0;34m]\u001b[0m\u001b[0;34m)\u001b[0m\u001b[0;34m\u001b[0m\u001b[0;34m\u001b[0m\u001b[0m\n\u001b[0m\u001b[1;32m     12\u001b[0m \u001b[0;34m\u001b[0m\u001b[0m\n\u001b[1;32m     13\u001b[0m \u001b[0mx_train\u001b[0m \u001b[0;34m=\u001b[0m \u001b[0mtrajectories\u001b[0m\u001b[0;34m[\u001b[0m\u001b[0;34m:\u001b[0m\u001b[0;34m,\u001b[0m \u001b[0;34m:\u001b[0m\u001b[0;34m(\u001b[0m\u001b[0;36m4\u001b[0m \u001b[0;34m*\u001b[0m \u001b[0mN\u001b[0m \u001b[0;34m//\u001b[0m \u001b[0;36m5\u001b[0m\u001b[0;34m)\u001b[0m\u001b[0;34m,\u001b[0m \u001b[0;34m:\u001b[0m\u001b[0;34m]\u001b[0m\u001b[0;34m.\u001b[0m\u001b[0mreshape\u001b[0m\u001b[0;34m(\u001b[0m\u001b[0;34m-\u001b[0m\u001b[0;36m1\u001b[0m\u001b[0;34m,\u001b[0m \u001b[0;36m2\u001b[0m \u001b[0;34m*\u001b[0m \u001b[0ms\u001b[0m\u001b[0;34m)\u001b[0m\u001b[0;34m\u001b[0m\u001b[0;34m\u001b[0m\u001b[0m\n",
      "\u001b[0;32m/var/folders/88/gsb2h1td1v772jpnk7t4k9qm0000gn/T/ipykernel_52684/2154937092.py\u001b[0m in \u001b[0;36m<listcomp>\u001b[0;34m(.0)\u001b[0m\n\u001b[1;32m      9\u001b[0m \u001b[0minitial_states\u001b[0m \u001b[0;34m=\u001b[0m \u001b[0mnp\u001b[0m\u001b[0;34m.\u001b[0m\u001b[0marray\u001b[0m\u001b[0;34m(\u001b[0m\u001b[0;34m[\u001b[0m\u001b[0;34m[\u001b[0m\u001b[0mangle_1\u001b[0m\u001b[0;34m,\u001b[0m \u001b[0mangle_2\u001b[0m\u001b[0;34m,\u001b[0m \u001b[0;36m0\u001b[0m\u001b[0;34m,\u001b[0m \u001b[0;36m0\u001b[0m\u001b[0;34m]\u001b[0m \u001b[0;32mfor\u001b[0m \u001b[0;34m(\u001b[0m\u001b[0mangle_1\u001b[0m\u001b[0;34m,\u001b[0m \u001b[0mangle_2\u001b[0m\u001b[0;34m)\u001b[0m \u001b[0;32min\u001b[0m \u001b[0minitial_angles\u001b[0m\u001b[0;34m]\u001b[0m\u001b[0;34m)\u001b[0m\u001b[0;34m\u001b[0m\u001b[0;34m\u001b[0m\u001b[0m\n\u001b[1;32m     10\u001b[0m \u001b[0;34m\u001b[0m\u001b[0m\n\u001b[0;32m---> 11\u001b[0;31m \u001b[0mtrajectories\u001b[0m \u001b[0;34m=\u001b[0m \u001b[0mnp\u001b[0m\u001b[0;34m.\u001b[0m\u001b[0marray\u001b[0m\u001b[0;34m(\u001b[0m\u001b[0;34m[\u001b[0m\u001b[0msolve_numerical\u001b[0m\u001b[0;34m(\u001b[0m\u001b[0mf_analytical\u001b[0m\u001b[0;34m,\u001b[0m \u001b[0minitial_state\u001b[0m\u001b[0;34m,\u001b[0m \u001b[0mt\u001b[0m\u001b[0;34m,\u001b[0m \u001b[0mtime_step\u001b[0m\u001b[0;34m)\u001b[0m \u001b[0;32mfor\u001b[0m \u001b[0minitial_state\u001b[0m \u001b[0;32min\u001b[0m \u001b[0minitial_states\u001b[0m\u001b[0;34m]\u001b[0m\u001b[0;34m)\u001b[0m\u001b[0;34m\u001b[0m\u001b[0;34m\u001b[0m\u001b[0m\n\u001b[0m\u001b[1;32m     12\u001b[0m \u001b[0;34m\u001b[0m\u001b[0m\n\u001b[1;32m     13\u001b[0m \u001b[0mx_train\u001b[0m \u001b[0;34m=\u001b[0m \u001b[0mtrajectories\u001b[0m\u001b[0;34m[\u001b[0m\u001b[0;34m:\u001b[0m\u001b[0;34m,\u001b[0m \u001b[0;34m:\u001b[0m\u001b[0;34m(\u001b[0m\u001b[0;36m4\u001b[0m \u001b[0;34m*\u001b[0m \u001b[0mN\u001b[0m \u001b[0;34m//\u001b[0m \u001b[0;36m5\u001b[0m\u001b[0;34m)\u001b[0m\u001b[0;34m,\u001b[0m \u001b[0;34m:\u001b[0m\u001b[0;34m]\u001b[0m\u001b[0;34m.\u001b[0m\u001b[0mreshape\u001b[0m\u001b[0;34m(\u001b[0m\u001b[0;34m-\u001b[0m\u001b[0;36m1\u001b[0m\u001b[0;34m,\u001b[0m \u001b[0;36m2\u001b[0m \u001b[0;34m*\u001b[0m \u001b[0ms\u001b[0m\u001b[0;34m)\u001b[0m\u001b[0;34m\u001b[0m\u001b[0;34m\u001b[0m\u001b[0m\n",
      "\u001b[0;31mTypeError\u001b[0m: solve_numerical() missing 1 required positional argument: 'model'"
     ]
    }
   ],
   "source": [
    "\"\"\"\n",
    "Generating trajectories and separation to train and test\n",
    "\"\"\"\n",
    "time_step = TIME_STEP\n",
    "t = np.arange(0, time_step * N, time_step) \n",
    "np.random.seed(seed = RANDOM_STATE)\n",
    "\n",
    "initial_angles = np.random.uniform(0, 1, (n_trajectories, 2)) * np.pi\n",
    "initial_states = np.array([[angle_1, angle_2, 0, 0] for (angle_1, angle_2) in initial_angles])\n",
    "\n",
    "trajectories = np.array([solve_numerical(f_analytical, initial_state, t, time_step) for initial_state in initial_states])\n",
    "\n",
    "x_train = trajectories[:, :(4 * N // 5), :].reshape(-1, 2 * s)\n",
    "x_test = trajectories[:, (4 * N // 5):, :].reshape(-1, 2 * s)\n",
    "\n",
    "y_train = f_analytical(x_train)\n",
    "y_test = f_analytical(x_test)\n",
    "\n",
    "with open(Path(\"dataset\", \"data\", \"train_data_new.pickle\"), 'wb') as handle:\n",
    "    pickle.dump([x_train, y_train], handle, protocol=pickle.HIGHEST_PROTOCOL)\n",
    "with open(Path(\"dataset\", \"data\", \"test_data_new.pickle\"), 'wb') as handle:\n",
    "    pickle.dump([x_test, y_test], handle, protocol=pickle.HIGHEST_PROTOCOL)"
   ]
  },
  {
   "cell_type": "code",
   "execution_count": 18,
   "id": "7d702d29",
   "metadata": {
    "ExecuteTime": {
     "end_time": "2023-03-21T18:39:07.661652Z",
     "start_time": "2023-03-21T18:39:07.631523Z"
    }
   },
   "outputs": [],
   "source": [
    "\"\"\"\n",
    "Uploading a dataset \n",
    "\"\"\"\n",
    "class DoublePendulumDataset(Dataset):\n",
    "    def __init__(self, x_set, y_set):\n",
    "        self.sample_list = list(zip(x_set, y_set))\n",
    "        \n",
    "    def __len__(self):\n",
    "        return len(self.sample_list)\n",
    "    \n",
    "    def transform(state):\n",
    "        angles = state[:s]\n",
    "        return np.hstack(((angles + np.pi) % (2 * np.pi) - np.pi, state[s:]))\n",
    "\n",
    "    def __getitem__(self, idx):\n",
    "        x_sample, y_sample = self.sample_list[idx]\n",
    "        x_sample = DoublePendulumDataset.transform(x_sample)\n",
    "        return x_sample.astype('float32'), y_sample.astype('float32')\n",
    "\n",
    "\n",
    "with open(Path(\"dataset\", \"data\", \"train_data_new.pickle\"), 'rb') as f:\n",
    "    train_data = pickle.load(f)\n",
    "with open(Path(\"dataset\", \"data\", \"test_data_new.pickle\"), 'rb') as f:\n",
    "    test_data = pickle.load(f)\n",
    "    \n",
    "[x_train, y_train] = train_data\n",
    "[x_test, y_test] = test_data\n",
    "    \n",
    "train_dataset = DoublePendulumDataset(x_train, y_train)\n",
    "test_dataset = DoublePendulumDataset(x_test, y_test)"
   ]
  },
  {
   "cell_type": "code",
   "execution_count": 12,
   "id": "6cdeba9c",
   "metadata": {
    "ExecuteTime": {
     "end_time": "2023-03-21T18:38:50.132266Z",
     "start_time": "2023-03-21T18:38:50.128275Z"
    }
   },
   "outputs": [],
   "source": [
    "class BaselineNN(nn.Module):\n",
    "    '''\n",
    "    Neural network\n",
    "    '''\n",
    "    def __init__(self, s=2):\n",
    "        super().__init__()\n",
    "        \n",
    "        self.sequence = nn.Sequential(\n",
    "            nn.Linear(2 * s, 64),\n",
    "            nn.Softplus(),\n",
    "            nn.Linear(64, 128),\n",
    "            nn.Softplus(),\n",
    "            nn.Linear(128, 1),\n",
    "        )\n",
    "     \n",
    "    def forward(self, x):\n",
    "        return self.sequence(x)"
   ]
  },
  {
   "cell_type": "code",
   "execution_count": 79,
   "id": "9632153e",
   "metadata": {
    "ExecuteTime": {
     "end_time": "2023-03-21T15:11:03.686919Z",
     "start_time": "2023-03-21T15:11:03.610342Z"
    }
   },
   "outputs": [],
   "source": [
    "def train_epoch(model, train_loader, optimizer, verbose=True):\n",
    "    '''\n",
    "    Train epoch\n",
    "    ''' \n",
    "    model.train()\n",
    "    \n",
    "    loss_func = nn.MSELoss()\n",
    "    total_loss = 0\n",
    "    \n",
    "    for batch in tqdm(train_loader, disable=not verbose):\n",
    "        coords, targets = batch\n",
    "        \n",
    "        preds = torch.zeros((len(targets), 2 * s))\n",
    "        \n",
    "        for i, coord in enumerate(coords):\n",
    "            \n",
    "            J = jacobian(model, coord, create_graph=True, strict=True)[0]\n",
    "            J_q = J[:s]\n",
    "            \n",
    "            H = hessian(model, coord, create_graph=True, strict=True)\n",
    "            H_qt_qt = H[s:, s:]\n",
    "            H_qt_q = H[:s, s:]\n",
    "            \n",
    "            q_tt = torch.inverse(H_qt_qt) @ (J_q - H_qt_q @ coord[s:])\n",
    "\n",
    "            preds[i] = torch.cat((coord[s:], q_tt))\n",
    "            \n",
    "        loss = loss_func(preds, targets)\n",
    "        optimizer.zero_grad()\n",
    "        loss.backward()\n",
    "        optimizer.step()\n",
    "        \n",
    "        total_loss += loss\n",
    "    \n",
    "    model.eval()\n",
    "    \n",
    "    return total_loss / len(train_loader)\n",
    "\n",
    "\n",
    "def test_epoch(model, test_loader, verbose=True):\n",
    "    '''\n",
    "    Train epoch\n",
    "    '''\n",
    "    model.eval()\n",
    "    \n",
    "    loss_func = nn.MSELoss()\n",
    "    total_loss = 0\n",
    "    \n",
    "    for batch in tqdm(test_loader, disable=not verbose):\n",
    "        coords, targets = batch\n",
    "\n",
    "        preds = torch.zeros((len(targets), 2 * s))\n",
    "        \n",
    "        for i, coord in enumerate(coords):\n",
    "\n",
    "            J = jacobian(model, coord)[0]\n",
    "            J_q = J[:s]\n",
    "            \n",
    "            H = hessian(model, coord)\n",
    "            H_qt_qt = H[s:, s:]\n",
    "            H_qt_q = H[:s, s:]\n",
    "            \n",
    "            q_tt = torch.inverse(H_qt_qt) @ (J_q - H_qt_q @ coord[s:])\n",
    "\n",
    "            preds[i] = torch.cat((coord[s:], q_tt))\n",
    "\n",
    "        total_loss += loss_func(preds, targets)\n",
    "\n",
    "    return total_loss / len(test_loader)\n",
    "\n",
    "\n",
    "def train_model(model, train_loader, test_loader, num_epochs, lr, verbose=True):\n",
    "    '''\n",
    "    Test epoch\n",
    "    '''\n",
    "    optimizer = optim.Adam(model.parameters(), lr=lr)\n",
    "\n",
    "    train_losses = []\n",
    "    test_losses = []\n",
    "    \n",
    "    for epoch in range(num_epochs):\n",
    "        train_loss = train_epoch(model, train_loader, optimizer, verbose=verbose)\n",
    "        test_loss = test_epoch(model, test_loader, verbose=verbose)\n",
    "        train_losses.append(train_loss)\n",
    "        test_losses.append(test_loss)\n",
    "        \n",
    "        if verbose == True:\n",
    "            print(f'============= Epoch {epoch + 1} =============')\n",
    "            print(f'train loss: {train_loss}')\n",
    "            print(f'test loss: {test_loss}')\n",
    "\n",
    "    return train_losses, test_losses "
   ]
  },
  {
   "cell_type": "code",
   "execution_count": 75,
   "id": "db79802c",
   "metadata": {
    "ExecuteTime": {
     "end_time": "2023-03-21T14:57:50.957908Z",
     "start_time": "2023-03-21T14:57:50.951851Z"
    }
   },
   "outputs": [],
   "source": [
    "BATCH_SIZE = 64\n",
    "LR = 5e-4\n",
    "NUM_EPOCHS = 4"
   ]
  },
  {
   "cell_type": "code",
   "execution_count": 76,
   "id": "e8200db0",
   "metadata": {
    "ExecuteTime": {
     "end_time": "2023-03-21T14:57:52.544939Z",
     "start_time": "2023-03-21T14:57:52.537764Z"
    }
   },
   "outputs": [],
   "source": [
    "train_loader = DataLoader(train_dataset, batch_size=BATCH_SIZE, shuffle=True)\n",
    "test_loader  = DataLoader(test_dataset, batch_size=BATCH_SIZE)"
   ]
  },
  {
   "cell_type": "code",
   "execution_count": 11,
   "id": "8fa6ca65",
   "metadata": {
    "ExecuteTime": {
     "end_time": "2023-04-04T12:44:45.094115Z",
     "start_time": "2023-04-04T12:44:45.085730Z"
    }
   },
   "outputs": [
    {
     "ename": "NameError",
     "evalue": "name 'BaselineNN' is not defined",
     "output_type": "error",
     "traceback": [
      "\u001b[0;31m---------------------------------------------------------------------------\u001b[0m",
      "\u001b[0;31mNameError\u001b[0m                                 Traceback (most recent call last)",
      "\u001b[0;32m/var/folders/88/gsb2h1td1v772jpnk7t4k9qm0000gn/T/ipykernel_52684/1880710463.py\u001b[0m in \u001b[0;36m<module>\u001b[0;34m\u001b[0m\n\u001b[0;32m----> 1\u001b[0;31m \u001b[0mlnn_model\u001b[0m \u001b[0;34m=\u001b[0m \u001b[0mBaselineNN\u001b[0m\u001b[0;34m(\u001b[0m\u001b[0;34m)\u001b[0m\u001b[0;34m\u001b[0m\u001b[0;34m\u001b[0m\u001b[0m\n\u001b[0m",
      "\u001b[0;31mNameError\u001b[0m: name 'BaselineNN' is not defined"
     ]
    }
   ],
   "source": [
    "lnn_model = BaselineNN()"
   ]
  },
  {
   "cell_type": "code",
   "execution_count": 78,
   "id": "88a701a9",
   "metadata": {
    "ExecuteTime": {
     "end_time": "2023-03-21T15:11:01.125969Z",
     "start_time": "2023-03-21T14:57:56.753688Z"
    }
   },
   "outputs": [
    {
     "name": "stderr",
     "output_type": "stream",
     "text": [
      "100%|█████████████████████████████████████████| 625/625 [03:34<00:00,  2.92it/s]\n",
      "100%|█████████████████████████████████████████| 157/157 [00:25<00:00,  6.18it/s]\n"
     ]
    },
    {
     "name": "stdout",
     "output_type": "stream",
     "text": [
      "============= Epoch 1 =============\n",
      "train loss: 274004.875\n",
      "test loss: 169.3370819091797\n"
     ]
    },
    {
     "name": "stderr",
     "output_type": "stream",
     "text": [
      "100%|█████████████████████████████████████████| 625/625 [04:27<00:00,  2.33it/s]\n",
      "100%|█████████████████████████████████████████| 157/157 [00:21<00:00,  7.16it/s]\n"
     ]
    },
    {
     "name": "stdout",
     "output_type": "stream",
     "text": [
      "============= Epoch 2 =============\n",
      "train loss: 168.6577911376953\n",
      "test loss: 169.3370819091797\n"
     ]
    },
    {
     "name": "stderr",
     "output_type": "stream",
     "text": [
      "100%|█████████████████████████████████████████| 625/625 [03:45<00:00,  2.77it/s]\n",
      "100%|█████████████████████████████████████████| 157/157 [00:22<00:00,  6.89it/s]\n"
     ]
    },
    {
     "name": "stdout",
     "output_type": "stream",
     "text": [
      "============= Epoch 3 =============\n",
      "train loss: 168.6578826904297\n",
      "test loss: 169.3370819091797\n"
     ]
    },
    {
     "name": "stderr",
     "output_type": "stream",
     "text": [
      "  3%|█▎                                        | 20/625 [00:06<03:06,  3.24it/s]\n"
     ]
    },
    {
     "ename": "KeyboardInterrupt",
     "evalue": "",
     "output_type": "error",
     "traceback": [
      "\u001b[0;31m---------------------------------------------------------------------------\u001b[0m",
      "\u001b[0;31mKeyboardInterrupt\u001b[0m                         Traceback (most recent call last)",
      "\u001b[0;32m/var/folders/88/gsb2h1td1v772jpnk7t4k9qm0000gn/T/ipykernel_65757/879181019.py\u001b[0m in \u001b[0;36m<module>\u001b[0;34m\u001b[0m\n\u001b[0;32m----> 1\u001b[0;31m \u001b[0mtrain_losses\u001b[0m\u001b[0;34m,\u001b[0m \u001b[0mtest_losses\u001b[0m \u001b[0;34m=\u001b[0m \u001b[0mtrain_model\u001b[0m\u001b[0;34m(\u001b[0m\u001b[0mlnn_model\u001b[0m\u001b[0;34m,\u001b[0m \u001b[0mtrain_loader\u001b[0m\u001b[0;34m,\u001b[0m \u001b[0mtest_loader\u001b[0m\u001b[0;34m,\u001b[0m \u001b[0mNUM_EPOCHS\u001b[0m\u001b[0;34m,\u001b[0m \u001b[0mLR\u001b[0m\u001b[0;34m)\u001b[0m\u001b[0;34m\u001b[0m\u001b[0;34m\u001b[0m\u001b[0m\n\u001b[0m",
      "\u001b[0;32m/var/folders/88/gsb2h1td1v772jpnk7t4k9qm0000gn/T/ipykernel_65757/3537003896.py\u001b[0m in \u001b[0;36mtrain_model\u001b[0;34m(model, train_loader, test_loader, num_epochs, lr, verbose)\u001b[0m\n\u001b[1;32m     80\u001b[0m \u001b[0;34m\u001b[0m\u001b[0m\n\u001b[1;32m     81\u001b[0m     \u001b[0;32mfor\u001b[0m \u001b[0mepoch\u001b[0m \u001b[0;32min\u001b[0m \u001b[0mrange\u001b[0m\u001b[0;34m(\u001b[0m\u001b[0mnum_epochs\u001b[0m\u001b[0;34m)\u001b[0m\u001b[0;34m:\u001b[0m\u001b[0;34m\u001b[0m\u001b[0;34m\u001b[0m\u001b[0m\n\u001b[0;32m---> 82\u001b[0;31m         \u001b[0mtrain_loss\u001b[0m \u001b[0;34m=\u001b[0m \u001b[0mtrain_epoch\u001b[0m\u001b[0;34m(\u001b[0m\u001b[0mmodel\u001b[0m\u001b[0;34m,\u001b[0m \u001b[0mtrain_loader\u001b[0m\u001b[0;34m,\u001b[0m \u001b[0moptimizer\u001b[0m\u001b[0;34m,\u001b[0m \u001b[0mverbose\u001b[0m\u001b[0;34m=\u001b[0m\u001b[0mverbose\u001b[0m\u001b[0;34m)\u001b[0m\u001b[0;34m\u001b[0m\u001b[0;34m\u001b[0m\u001b[0m\n\u001b[0m\u001b[1;32m     83\u001b[0m         \u001b[0mtest_loss\u001b[0m \u001b[0;34m=\u001b[0m \u001b[0mtest_epoch\u001b[0m\u001b[0;34m(\u001b[0m\u001b[0mmodel\u001b[0m\u001b[0;34m,\u001b[0m \u001b[0mtest_loader\u001b[0m\u001b[0;34m,\u001b[0m \u001b[0mverbose\u001b[0m\u001b[0;34m=\u001b[0m\u001b[0mverbose\u001b[0m\u001b[0;34m)\u001b[0m\u001b[0;34m\u001b[0m\u001b[0;34m\u001b[0m\u001b[0m\n\u001b[1;32m     84\u001b[0m         \u001b[0mtrain_losses\u001b[0m\u001b[0;34m.\u001b[0m\u001b[0mappend\u001b[0m\u001b[0;34m(\u001b[0m\u001b[0mtrain_loss\u001b[0m\u001b[0;34m)\u001b[0m\u001b[0;34m\u001b[0m\u001b[0;34m\u001b[0m\u001b[0m\n",
      "\u001b[0;32m/var/folders/88/gsb2h1td1v772jpnk7t4k9qm0000gn/T/ipykernel_65757/3537003896.py\u001b[0m in \u001b[0;36mtrain_epoch\u001b[0;34m(model, train_loader, optimizer, verbose)\u001b[0m\n\u001b[1;32m     18\u001b[0m             \u001b[0mJ_q\u001b[0m \u001b[0;34m=\u001b[0m \u001b[0mJ\u001b[0m\u001b[0;34m[\u001b[0m\u001b[0;34m:\u001b[0m\u001b[0ms\u001b[0m\u001b[0;34m]\u001b[0m\u001b[0;34m\u001b[0m\u001b[0;34m\u001b[0m\u001b[0m\n\u001b[1;32m     19\u001b[0m \u001b[0;34m\u001b[0m\u001b[0m\n\u001b[0;32m---> 20\u001b[0;31m             \u001b[0mH\u001b[0m \u001b[0;34m=\u001b[0m \u001b[0mhessian\u001b[0m\u001b[0;34m(\u001b[0m\u001b[0mmodel\u001b[0m\u001b[0;34m,\u001b[0m \u001b[0mcoord\u001b[0m\u001b[0;34m,\u001b[0m \u001b[0mcreate_graph\u001b[0m\u001b[0;34m=\u001b[0m\u001b[0;32mTrue\u001b[0m\u001b[0;34m,\u001b[0m \u001b[0mstrict\u001b[0m\u001b[0;34m=\u001b[0m\u001b[0;32mTrue\u001b[0m\u001b[0;34m)\u001b[0m\u001b[0;34m\u001b[0m\u001b[0;34m\u001b[0m\u001b[0m\n\u001b[0m\u001b[1;32m     21\u001b[0m             \u001b[0mH_qt_qt\u001b[0m \u001b[0;34m=\u001b[0m \u001b[0mH\u001b[0m\u001b[0;34m[\u001b[0m\u001b[0ms\u001b[0m\u001b[0;34m:\u001b[0m\u001b[0;34m,\u001b[0m \u001b[0ms\u001b[0m\u001b[0;34m:\u001b[0m\u001b[0;34m]\u001b[0m\u001b[0;34m\u001b[0m\u001b[0;34m\u001b[0m\u001b[0m\n\u001b[1;32m     22\u001b[0m             \u001b[0mH_qt_q\u001b[0m \u001b[0;34m=\u001b[0m \u001b[0mH\u001b[0m\u001b[0;34m[\u001b[0m\u001b[0ms\u001b[0m\u001b[0;34m:\u001b[0m\u001b[0;34m,\u001b[0m \u001b[0;34m:\u001b[0m\u001b[0ms\u001b[0m\u001b[0;34m]\u001b[0m\u001b[0;34m\u001b[0m\u001b[0;34m\u001b[0m\u001b[0m\n",
      "\u001b[0;32m~/opt/anaconda3/lib/python3.9/site-packages/torch/autograd/functional.py\u001b[0m in \u001b[0;36mhessian\u001b[0;34m(func, inputs, create_graph, strict, vectorize, outer_jacobian_strategy)\u001b[0m\n\u001b[1;32m    806\u001b[0m         \u001b[0;32mreturn\u001b[0m \u001b[0mjac\u001b[0m\u001b[0;34m\u001b[0m\u001b[0;34m\u001b[0m\u001b[0m\n\u001b[1;32m    807\u001b[0m \u001b[0;34m\u001b[0m\u001b[0m\n\u001b[0;32m--> 808\u001b[0;31m     res = jacobian(jac_func, inputs, create_graph=create_graph, strict=strict, vectorize=vectorize,\n\u001b[0m\u001b[1;32m    809\u001b[0m                    strategy=outer_jacobian_strategy)\n\u001b[1;32m    810\u001b[0m     \u001b[0;32mreturn\u001b[0m \u001b[0m_tuple_postprocess\u001b[0m\u001b[0;34m(\u001b[0m\u001b[0mres\u001b[0m\u001b[0;34m,\u001b[0m \u001b[0;34m(\u001b[0m\u001b[0mis_inputs_tuple\u001b[0m\u001b[0;34m,\u001b[0m \u001b[0mis_inputs_tuple\u001b[0m\u001b[0;34m)\u001b[0m\u001b[0;34m)\u001b[0m\u001b[0;34m\u001b[0m\u001b[0;34m\u001b[0m\u001b[0m\n",
      "\u001b[0;32m~/opt/anaconda3/lib/python3.9/site-packages/torch/autograd/functional.py\u001b[0m in \u001b[0;36mjacobian\u001b[0;34m(func, inputs, create_graph, strict, vectorize, strategy)\u001b[0m\n\u001b[1;32m    668\u001b[0m             \u001b[0mjac_i\u001b[0m\u001b[0;34m:\u001b[0m \u001b[0mTuple\u001b[0m\u001b[0;34m[\u001b[0m\u001b[0mList\u001b[0m\u001b[0;34m[\u001b[0m\u001b[0mtorch\u001b[0m\u001b[0;34m.\u001b[0m\u001b[0mTensor\u001b[0m\u001b[0;34m]\u001b[0m\u001b[0;34m]\u001b[0m \u001b[0;34m=\u001b[0m \u001b[0mtuple\u001b[0m\u001b[0;34m(\u001b[0m\u001b[0;34m[\u001b[0m\u001b[0;34m]\u001b[0m \u001b[0;32mfor\u001b[0m \u001b[0m_\u001b[0m \u001b[0;32min\u001b[0m \u001b[0mrange\u001b[0m\u001b[0;34m(\u001b[0m\u001b[0mlen\u001b[0m\u001b[0;34m(\u001b[0m\u001b[0minputs\u001b[0m\u001b[0;34m)\u001b[0m\u001b[0;34m)\u001b[0m\u001b[0;34m)\u001b[0m  \u001b[0;31m# type: ignore[assignment]\u001b[0m\u001b[0;34m\u001b[0m\u001b[0;34m\u001b[0m\u001b[0m\n\u001b[1;32m    669\u001b[0m             \u001b[0;32mfor\u001b[0m \u001b[0mj\u001b[0m \u001b[0;32min\u001b[0m \u001b[0mrange\u001b[0m\u001b[0;34m(\u001b[0m\u001b[0mout\u001b[0m\u001b[0;34m.\u001b[0m\u001b[0mnelement\u001b[0m\u001b[0;34m(\u001b[0m\u001b[0;34m)\u001b[0m\u001b[0;34m)\u001b[0m\u001b[0;34m:\u001b[0m\u001b[0;34m\u001b[0m\u001b[0;34m\u001b[0m\u001b[0m\n\u001b[0;32m--> 670\u001b[0;31m                 vj = _autograd_grad((out.reshape(-1)[j],), inputs,\n\u001b[0m\u001b[1;32m    671\u001b[0m                                     retain_graph=True, create_graph=create_graph)\n\u001b[1;32m    672\u001b[0m \u001b[0;34m\u001b[0m\u001b[0m\n",
      "\u001b[0;32m~/opt/anaconda3/lib/python3.9/site-packages/torch/autograd/functional.py\u001b[0m in \u001b[0;36m_autograd_grad\u001b[0;34m(outputs, inputs, grad_outputs, create_graph, retain_graph, is_grads_batched)\u001b[0m\n\u001b[1;32m    157\u001b[0m         \u001b[0;32mreturn\u001b[0m \u001b[0;34m(\u001b[0m\u001b[0;32mNone\u001b[0m\u001b[0;34m,\u001b[0m\u001b[0;34m)\u001b[0m \u001b[0;34m*\u001b[0m \u001b[0mlen\u001b[0m\u001b[0;34m(\u001b[0m\u001b[0minputs\u001b[0m\u001b[0;34m)\u001b[0m\u001b[0;34m\u001b[0m\u001b[0;34m\u001b[0m\u001b[0m\n\u001b[1;32m    158\u001b[0m     \u001b[0;32melse\u001b[0m\u001b[0;34m:\u001b[0m\u001b[0;34m\u001b[0m\u001b[0;34m\u001b[0m\u001b[0m\n\u001b[0;32m--> 159\u001b[0;31m         return torch.autograd.grad(new_outputs, inputs, new_grad_outputs, allow_unused=True,\n\u001b[0m\u001b[1;32m    160\u001b[0m                                    \u001b[0mcreate_graph\u001b[0m\u001b[0;34m=\u001b[0m\u001b[0mcreate_graph\u001b[0m\u001b[0;34m,\u001b[0m \u001b[0mretain_graph\u001b[0m\u001b[0;34m=\u001b[0m\u001b[0mretain_graph\u001b[0m\u001b[0;34m,\u001b[0m\u001b[0;34m\u001b[0m\u001b[0;34m\u001b[0m\u001b[0m\n\u001b[1;32m    161\u001b[0m                                    is_grads_batched=is_grads_batched)\n",
      "\u001b[0;32m~/opt/anaconda3/lib/python3.9/site-packages/torch/autograd/__init__.py\u001b[0m in \u001b[0;36mgrad\u001b[0;34m(outputs, inputs, grad_outputs, retain_graph, create_graph, only_inputs, allow_unused, is_grads_batched)\u001b[0m\n\u001b[1;32m    274\u001b[0m         \u001b[0;32mreturn\u001b[0m \u001b[0m_vmap_internals\u001b[0m\u001b[0;34m.\u001b[0m\u001b[0m_vmap\u001b[0m\u001b[0;34m(\u001b[0m\u001b[0mvjp\u001b[0m\u001b[0;34m,\u001b[0m \u001b[0;36m0\u001b[0m\u001b[0;34m,\u001b[0m \u001b[0;36m0\u001b[0m\u001b[0;34m,\u001b[0m \u001b[0mallow_none_pass_through\u001b[0m\u001b[0;34m=\u001b[0m\u001b[0;32mTrue\u001b[0m\u001b[0;34m)\u001b[0m\u001b[0;34m(\u001b[0m\u001b[0mgrad_outputs_\u001b[0m\u001b[0;34m)\u001b[0m\u001b[0;34m\u001b[0m\u001b[0;34m\u001b[0m\u001b[0m\n\u001b[1;32m    275\u001b[0m     \u001b[0;32melse\u001b[0m\u001b[0;34m:\u001b[0m\u001b[0;34m\u001b[0m\u001b[0;34m\u001b[0m\u001b[0m\n\u001b[0;32m--> 276\u001b[0;31m         return Variable._execution_engine.run_backward(  # Calls into the C++ engine to run the backward pass\n\u001b[0m\u001b[1;32m    277\u001b[0m             \u001b[0mt_outputs\u001b[0m\u001b[0;34m,\u001b[0m \u001b[0mgrad_outputs_\u001b[0m\u001b[0;34m,\u001b[0m \u001b[0mretain_graph\u001b[0m\u001b[0;34m,\u001b[0m \u001b[0mcreate_graph\u001b[0m\u001b[0;34m,\u001b[0m \u001b[0mt_inputs\u001b[0m\u001b[0;34m,\u001b[0m\u001b[0;34m\u001b[0m\u001b[0;34m\u001b[0m\u001b[0m\n\u001b[1;32m    278\u001b[0m             allow_unused, accumulate_grad=False)  # Calls into the C++ engine to run the backward pass\n",
      "\u001b[0;31mKeyboardInterrupt\u001b[0m: "
     ]
    }
   ],
   "source": [
    "train_losses, test_losses = train_model(lnn_model, train_loader, test_loader, NUM_EPOCHS, LR)"
   ]
  },
  {
   "cell_type": "code",
   "execution_count": 9,
   "id": "27ce9981",
   "metadata": {
    "ExecuteTime": {
     "end_time": "2023-04-04T12:44:34.760077Z",
     "start_time": "2023-04-04T12:44:34.753151Z"
    }
   },
   "outputs": [],
   "source": [
    "def lagrangian(state):\n",
    "    \"\"\"\n",
    "    Lagrangian of the double pendulum\n",
    "    \"\"\"\n",
    "    t1, t2, w1, w2 = state\n",
    "\n",
    "    T1 = 0.5 * (w1)**2\n",
    "    T2 = 0.5 * ((w1)**2 + (w2)**2 + 2 * w1 * w2 * torch.cos(t1 - t2))\n",
    "    T = T1 + T2\n",
    "\n",
    "    # potential energy (V)\n",
    "    y1 = -torch.cos(t1)\n",
    "    y2 = y1 - torch.cos(t2)\n",
    "    V = 9.8 * y1 + 9.8 * y2\n",
    "\n",
    "    return T - V"
   ]
  },
  {
   "cell_type": "code",
   "execution_count": 10,
   "id": "bfa4a8a5",
   "metadata": {
    "ExecuteTime": {
     "end_time": "2023-04-04T12:44:37.152595Z",
     "start_time": "2023-04-04T12:44:37.139385Z"
    }
   },
   "outputs": [
    {
     "ename": "NameError",
     "evalue": "name 'lnn_model' is not defined",
     "output_type": "error",
     "traceback": [
      "\u001b[0;31m---------------------------------------------------------------------------\u001b[0m",
      "\u001b[0;31mNameError\u001b[0m                                 Traceback (most recent call last)",
      "\u001b[0;32m/var/folders/88/gsb2h1td1v772jpnk7t4k9qm0000gn/T/ipykernel_52684/4006881620.py\u001b[0m in \u001b[0;36m<module>\u001b[0;34m\u001b[0m\n\u001b[0;32m----> 1\u001b[0;31m \u001b[0;32mdef\u001b[0m \u001b[0mf_lnn\u001b[0m\u001b[0;34m(\u001b[0m\u001b[0mstate\u001b[0m\u001b[0;34m,\u001b[0m \u001b[0mmodel\u001b[0m \u001b[0;34m=\u001b[0m \u001b[0mlnn_model\u001b[0m\u001b[0;34m)\u001b[0m\u001b[0;34m:\u001b[0m\u001b[0;34m\u001b[0m\u001b[0;34m\u001b[0m\u001b[0m\n\u001b[0m\u001b[1;32m      2\u001b[0m     '''\n\u001b[1;32m      3\u001b[0m     \u001b[0mResult\u001b[0m \u001b[0mof\u001b[0m \u001b[0mlearning\u001b[0m \u001b[0mlnn\u001b[0m\u001b[0;34m\u001b[0m\u001b[0;34m\u001b[0m\u001b[0m\n\u001b[1;32m      4\u001b[0m     '''\n\u001b[1;32m      5\u001b[0m     \u001b[0mstate\u001b[0m \u001b[0;34m=\u001b[0m \u001b[0mDoublePendulumDataset\u001b[0m\u001b[0;34m.\u001b[0m\u001b[0mtransform\u001b[0m\u001b[0;34m(\u001b[0m\u001b[0mstate\u001b[0m\u001b[0;34m)\u001b[0m\u001b[0;34m\u001b[0m\u001b[0;34m\u001b[0m\u001b[0m\n",
      "\u001b[0;31mNameError\u001b[0m: name 'lnn_model' is not defined"
     ]
    }
   ],
   "source": [
    "def f_lnn(state, model = lnn_model):\n",
    "    '''\n",
    "    Result of learning lnn\n",
    "    '''\n",
    "    state = DoublePendulumDataset.transform(state)\n",
    "    state = torch.from_numpy(state.astype('float32'))\n",
    "    \n",
    "    J = jacobian(model, state)\n",
    "    J_q = J[:s]\n",
    "    \n",
    "    H = hessian(model, state)\n",
    "    H_qt_qt = H[s:, s:]\n",
    "    H_qt_q = H[:s, s:]\n",
    "\n",
    "    q_tt = torch.inverse(H_qt_qt) @ (J_q - H_qt_q @ state[s:])\n",
    "    \n",
    "    return torch.cat((state[s:], q_tt)).numpy()"
   ]
  },
  {
   "cell_type": "code",
   "execution_count": 16,
   "id": "9663d062",
   "metadata": {
    "ExecuteTime": {
     "end_time": "2023-03-21T18:38:59.517049Z",
     "start_time": "2023-03-21T18:38:59.512575Z"
    }
   },
   "outputs": [],
   "source": [
    "'''\n",
    "Parameters\n",
    "'''\n",
    "k = 2\n",
    "time_step = TIME_STEP\n",
    "n = 300\n",
    "t_arr = np.arange(0, time_step * n, time_step) "
   ]
  },
  {
   "cell_type": "code",
   "execution_count": 20,
   "id": "fe6d7134",
   "metadata": {
    "ExecuteTime": {
     "end_time": "2023-03-21T18:39:25.117565Z",
     "start_time": "2023-03-21T18:39:22.705334Z"
    }
   },
   "outputs": [
    {
     "name": "stdout",
     "output_type": "stream",
     "text": [
      "[[ 2.26027843  1.32922815  0.          0.        ]\n",
      " [ 2.25999119  1.32892384 -0.0574476  -0.06086597]\n",
      " [ 2.2591295   1.32801067 -0.11488986 -0.12177851]\n",
      " [ 2.25769343  1.32648796 -0.17232135 -0.18278428]\n",
      " [ 2.25568312  1.32435452 -0.22973634 -0.24393006]\n",
      " [ 2.25309878  1.32160873 -0.28712878 -0.3052628 ]\n",
      " [ 2.24994065  1.31824848 -0.34449211 -0.3668297 ]\n",
      " [ 2.24620906  1.3142712  -0.40181915 -0.42867832]\n",
      " [ 2.24190441  1.30967382 -0.45910199 -0.49085655]\n",
      " [ 2.23702719  1.30445281 -0.51633188 -0.55341273]]\n"
     ]
    }
   ],
   "source": [
    "'''\n",
    "Results\n",
    "'''\n",
    "initial_state = initial_states[k]\n",
    "lagrangian_pred_trajectory = solve_numerical(f_lnn, initial_state, t_arr, time_step, lagrangian, solver=rk4_step_rectified)\n",
    "#pred_trajectory = solve_numerical(f_lnn, initial_state, t_arr, time_step, lnn_model, solver=rk4_step_rectified)\n",
    "#print(pred_trajectory[:10])\n",
    "print(lagrangian_pred_trajectory[:10])\n",
    "#print(trajectories[k][:10])"
   ]
  },
  {
   "cell_type": "code",
   "execution_count": 22,
   "id": "254e41b5",
   "metadata": {
    "ExecuteTime": {
     "end_time": "2023-03-21T18:39:41.393843Z",
     "start_time": "2023-03-21T18:39:40.938734Z"
    },
    "scrolled": false
   },
   "outputs": [
    {
     "data": {
      "image/png": "[encoded data removed]",
      "text/plain": [
       "<Figure size 640x480 with 2 Axes>"
      ]
     },
     "metadata": {},
     "output_type": "display_data"
    }
   ],
   "source": [
    "'''\n",
    "Plots\n",
    "'''\n",
    "#_ = get_dynamics_coords(trajectories[k][:n], 'trajectory rk4')\n",
    "_ = get_dynamics_coords(lagrangian_pred_trajectory, 'predicted trajectory')"
   ]
  },
  {
   "cell_type": "code",
   "execution_count": null,
   "id": "46a074ba",
   "metadata": {},
   "outputs": [],
   "source": []
  }
 ],
 "metadata": {
  "kernelspec": {
   "display_name": "Python 3 (ipykernel)",
   "language": "python",
   "name": "python3"
  },
  "language_info": {
   "codemirror_mode": {
    "name": "ipython",
    "version": 3
   },
   "file_extension": ".py",
   "mimetype": "text/x-python",
   "name": "python",
   "nbconvert_exporter": "python",
   "pygments_lexer": "ipython3",
   "version": "3.9.13"
  }
 },
 "nbformat": 4,
 "nbformat_minor": 5
}
